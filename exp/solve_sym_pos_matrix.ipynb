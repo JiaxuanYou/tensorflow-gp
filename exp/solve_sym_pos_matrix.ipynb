{
 "cells": [
  {
   "cell_type": "markdown",
   "metadata": {},
   "source": [
    "# Comparing matrix inversion v. solving\n",
    "\n",
    "KX = Y\n",
    "\n",
    "where K is pretty big, X is pretty big, and Y is pretty big. We're solving for X"
   ]
  },
  {
   "cell_type": "code",
   "execution_count": 1,
   "metadata": {
    "collapsed": true
   },
   "outputs": [],
   "source": [
    "# Set up matrix K and Y\n",
    "import numpy as np\n",
    "from scipy.linalg import solve\n",
    "from numpy.linalg import inv\n",
    "import time\n",
    "import matplotlib.pyplot as plt\n",
    "% matplotlib inline"
   ]
  },
  {
   "cell_type": "code",
   "execution_count": 2,
   "metadata": {
    "collapsed": true
   },
   "outputs": [],
   "source": [
    "n = 1000\n",
    "K = np.random.randn(n, n)\n",
    "K = K.dot(K.T)\n",
    "Y = np.random.randn(n, n)"
   ]
  },
  {
   "cell_type": "code",
   "execution_count": 3,
   "metadata": {
    "collapsed": true
   },
   "outputs": [],
   "source": [
    "def generate(n):\n",
    "    K = np.random.randn(n, n)\n",
    "    K = K.dot(K.T)\n",
    "    Y = np.random.randn(n, n)\n",
    "    return K, Y"
   ]
  },
  {
   "cell_type": "code",
   "execution_count": 4,
   "metadata": {
    "collapsed": true
   },
   "outputs": [],
   "source": [
    "def solve_by_inv(K, Y):\n",
    "    # Solve by matrix inversion\n",
    "    t = time.time()\n",
    "    X = inv(K).dot(Y)\n",
    "    t = time.time() - t\n",
    "    err = abs(K.dot(X) - Y).mean()\n",
    "    return err, t"
   ]
  },
  {
   "cell_type": "code",
   "execution_count": 5,
   "metadata": {
    "collapsed": true
   },
   "outputs": [],
   "source": [
    "def solve_by_sol(K, Y):\n",
    "    # Solve by matrix inversion\n",
    "    t = time.time()\n",
    "    X = solve(K, Y, sym_pos=True)\n",
    "    t = time.time() - t\n",
    "    err = abs(K.dot(X) - Y).mean()\n",
    "    return err, t    "
   ]
  },
  {
   "cell_type": "code",
   "execution_count": 6,
   "metadata": {
    "collapsed": false
   },
   "outputs": [
    {
     "name": "stdout",
     "output_type": "stream",
     "text": [
      "Solution check: 2.55433963354e-11\n",
      "Computation time: 0.166968822479\n"
     ]
    }
   ],
   "source": [
    "# Solve by matrix inversion\n",
    "err, t = solve_by_inv(K, Y)\n",
    "print \"Solution check:\", err\n",
    "print \"Computation time:\", t"
   ]
  },
  {
   "cell_type": "code",
   "execution_count": 7,
   "metadata": {
    "collapsed": false
   },
   "outputs": [
    {
     "name": "stdout",
     "output_type": "stream",
     "text": [
      "Solution check: 1.64575786881e-11\n",
      "Computation time: 0.114394187927\n"
     ]
    }
   ],
   "source": [
    "# Solve by solving\n",
    "err, t = solve_by_sol(K, Y)\n",
    "print \"Solution check:\", err\n",
    "print \"Computation time:\", t"
   ]
  },
  {
   "cell_type": "code",
   "execution_count": 14,
   "metadata": {
    "collapsed": false,
    "scrolled": true
   },
   "outputs": [
    {
     "name": "stdout",
     "output_type": "stream",
     "text": [
      "10\n",
      "********************************************************************************\n",
      "Error: 4.42049175042e-15 \t3.43683415061e-15\n",
      "Time: 9.20295715332e-05 \t0.0001060962677\n",
      "********************************************************************************\n",
      "Error: 3.29209819128e-13 \t1.7948229708e-13\n",
      "Time: 3.09944152832e-05 \t6.29425048828e-05\n",
      "********************************************************************************\n",
      "Error: 4.79287616539e-15 \t3.7774384315e-15\n",
      "Time: 2.88486480713e-05 \t5.79357147217e-05\n",
      "18\n",
      "********************************************************************************\n",
      "Error: 8.63665575662e-14 \t5.66552234493e-14\n",
      "Time: 4.10079956055e-05 \t7.20024108887e-05\n",
      "********************************************************************************\n",
      "Error: 1.8808092381e-13 \t1.27801132187e-13\n",
      "Time: 3.50475311279e-05 \t6.07967376709e-05\n",
      "********************************************************************************\n",
      "Error: 5.53955163847e-15 \t2.85114786932e-15\n",
      "Time: 3.40938568115e-05 \t6.00814819336e-05\n",
      "35\n",
      "********************************************************************************\n",
      "Error: 9.55214531162e-13 \t7.06246148581e-13\n",
      "Time: 0.00029993057251 \t0.000163078308105\n",
      "********************************************************************************\n",
      "Error: 9.10603868917e-14 \t5.75306378854e-14\n",
      "Time: 0.000164985656738 \t0.000113964080811\n",
      "********************************************************************************\n",
      "Error: 1.80277426722e-11 \t9.85386184063e-12\n",
      "Time: 0.000129222869873 \t0.000195026397705\n",
      "68\n",
      "********************************************************************************\n",
      "Error: 3.22948889123e-12 \t1.7591507325e-12\n",
      "Time: 0.000412940979004 \t0.000247001647949\n",
      "********************************************************************************\n",
      "Error: 3.11033180812e-13 \t1.89298640525e-13\n",
      "Time: 0.000715017318726 \t0.000301837921143\n",
      "********************************************************************************\n",
      "Error: 3.09719012001e-12 \t1.70594262638e-12\n",
      "Time: 0.000520944595337 \t0.00047492980957\n",
      "129\n",
      "********************************************************************************\n",
      "Error: 1.68938517692e-10 \t9.88073725983e-11\n",
      "Time: 0.00245594978333 \t0.00132703781128\n",
      "********************************************************************************\n",
      "Error: 2.85277239044e-12 \t1.74371486702e-12\n",
      "Time: 0.00215888023376 \t0.00173306465149\n",
      "********************************************************************************\n",
      "Error: 3.85807851936e-13 \t2.35591375268e-13\n",
      "Time: 0.00109601020813 \t0.00109505653381\n",
      "244\n",
      "********************************************************************************\n",
      "Error: 1.42796057749e-09 \t9.20738798286e-10\n",
      "Time: 0.00374412536621 \t0.00209999084473\n",
      "********************************************************************************\n",
      "Error: 2.38886458949e-10 \t1.39761291498e-10\n",
      "Time: 0.0028510093689 \t0.00250101089478\n",
      "********************************************************************************\n",
      "Error: 4.71068022907e-13 \t3.10499473008e-13\n",
      "Time: 0.00812816619873 \t0.00343108177185\n",
      "464\n",
      "********************************************************************************\n",
      "Error: 1.2198434094e-11 \t7.78292422394e-12\n",
      "Time: 0.0160710811615 \t0.0093309879303\n",
      "********************************************************************************\n",
      "Error: 2.07141102474e-12 \t1.36553636803e-12\n",
      "Time: 0.0166411399841 \t0.00949811935425\n",
      "********************************************************************************\n",
      "Error: 2.90398855521e-11 \t1.8192453841e-11\n",
      "Time: 0.0132720470428 \t0.00915384292603\n",
      "879\n",
      "********************************************************************************\n",
      "Error: 1.00970254969e-09 \t6.40454072489e-10\n",
      "Time: 0.0777299404144 \t0.0480480194092\n",
      "********************************************************************************\n",
      "Error: 2.19341119894e-10 \t1.3761695871e-10\n",
      "Time: 0.0762650966644 \t0.0459249019623\n",
      "********************************************************************************\n",
      "Error: 7.73593810326e-11 \t4.52258853839e-11\n",
      "Time: 0.0735318660736 \t0.0467600822449\n",
      "1668\n",
      "********************************************************************************\n",
      "Error: 1.7599371871e-10 \t1.10621402707e-10\n",
      "Time: 0.593911886215 \t0.29734992981\n",
      "********************************************************************************\n",
      "Error: 5.9789171951e-10 \t3.73527719942e-10\n",
      "Time: 0.759345054626 \t0.336894035339\n",
      "********************************************************************************\n",
      "Error: 8.17685037585e-11 \t5.42736781058e-11\n",
      "Time: 0.756484031677 \t0.284887075424\n",
      "3162\n",
      "********************************************************************************\n",
      "Error: 1.64172481528e-09 \t1.00572685299e-09\n",
      "Time: 3.15070295334 \t2.03040194511\n",
      "********************************************************************************\n",
      "Error: 1.06867099803e-08 \t6.74737991947e-09\n",
      "Time: 2.91052508354 \t2.09549403191\n",
      "********************************************************************************\n",
      "Error: 8.36690771438e-10 \t5.61995860124e-10\n",
      "Time: 3.53569293022 \t2.42399406433\n"
     ]
    }
   ],
   "source": [
    "ns = np.power(10, np.linspace(1, 3.5, num=10)).astype(int)\n",
    "trials = 3\n",
    "inv_err = np.zeros(trials*len(ns))\n",
    "sol_err = np.zeros(trials*len(ns))\n",
    "inv_t = np.zeros(trials*len(ns))\n",
    "sol_t = np.zeros(trials*len(ns))\n",
    "x = np.zeros(trials*len(ns))\n",
    "\n",
    "i = 0\n",
    "for n in ns:\n",
    "    print n\n",
    "    for _ in xrange(trials):\n",
    "        K, Y = generate(n)\n",
    "        err1, t1 = solve_by_inv(K, Y)\n",
    "        err2, t2 = solve_by_sol(K, Y)\n",
    "        inv_err[i] = err1\n",
    "        sol_err[i] = err2\n",
    "        inv_t[i] = t1\n",
    "        sol_t[i] = t2\n",
    "        x[i] = n\n",
    "        i += 1\n",
    "        print \"*\"*80\n",
    "        print \"Error:\", err1, \"\\t\", err2\n",
    "        print \"Time:\", t1, \"\\t\", t2"
   ]
  },
  {
   "cell_type": "code",
   "execution_count": 15,
   "metadata": {
    "collapsed": false
   },
   "outputs": [
    {
     "data": {
      "image/png": "[encoded data removed]",
      "text/plain": [
       "<matplotlib.figure.Figure at 0x10e433410>"
      ]
     },
     "metadata": {},
     "output_type": "display_data"
    }
   ],
   "source": [
    "y1 = np.array([inv_err[x == n].mean() for n in ns])\n",
    "y2 = np.array([sol_err[x == n].mean() for n in ns])\n",
    "plt.axis((x.min(), x.max(), 0, max(y1.max(),y2.max())))\n",
    "plt.plot(ns, y1, color='r')\n",
    "plt.plot(ns, y2, color='g')\n",
    "plt.title(\"Error rate\")\n",
    "plt.show()"
   ]
  },
  {
   "cell_type": "code",
   "execution_count": 16,
   "metadata": {
    "collapsed": false,
    "scrolled": true
   },
   "outputs": [
    {
     "data": {
      "image/png": "[encoded data removed]",
      "text/plain": [
       "<matplotlib.figure.Figure at 0x10fd72590>"
      ]
     },
     "metadata": {},
     "output_type": "display_data"
    }
   ],
   "source": [
    "y1 = np.array([inv_t[x == n].mean() for n in ns])\n",
    "y2 = np.array([sol_t[x == n].mean() for n in ns])\n",
    "plt.axis((x.min(), x.max(), 0, max(y1.max(),y2.max())))\n",
    "plt.plot(ns, y1, color='r')\n",
    "plt.plot(ns, y2, color='g')\n",
    "plt.title(\"Compute time\")\n",
    "plt.show()"
   ]
  }
 ],
 "metadata": {
  "kernelspec": {
   "display_name": "Python 2",
   "language": "python",
   "name": "python2"
  },
  "language_info": {
   "codemirror_mode": {
    "name": "ipython",
    "version": 2
   },
   "file_extension": ".py",
   "mimetype": "text/x-python",
   "name": "python",
   "nbconvert_exporter": "python",
   "pygments_lexer": "ipython2",
   "version": "2.7.10"
  }
 },
 "nbformat": 4,
 "nbformat_minor": 0
}
