{
 "cells": [
  {
   "cell_type": "markdown",
   "metadata": {},
   "source": [
    "# Sanity Check for Gradients"
   ]
  },
  {
   "cell_type": "code",
   "execution_count": 1,
   "metadata": {
    "collapsed": false
   },
   "outputs": [],
   "source": [
    "import sys\n",
    "sys.path.append('/Users/void/Documents/github/tensorflow-gp')\n",
    "import numpy as np\n",
    "from tgp.np.gaussian_process import GaussianProcess as GP\n",
    "from tgp.gradient_check import check_grad\n",
    "import matplotlib.pyplot as plt\n",
    "import time\n",
    "%load_ext autoreload\n",
    "%autoreload 2\n",
    "%matplotlib inline"
   ]
  },
  {
   "cell_type": "code",
   "execution_count": 2,
   "metadata": {
    "collapsed": true
   },
   "outputs": [],
   "source": [
    "np.random.seed(42)\n",
    "# make some random data\n",
    "n = 2\n",
    "X = np.random.uniform(0, 1, (n, 1))\n",
    "y = np.sin(X)"
   ]
  },
  {
   "cell_type": "code",
   "execution_count": 3,
   "metadata": {
    "collapsed": false
   },
   "outputs": [
    {
     "data": {
      "text/plain": [
       "<tgp.np.gaussian_process.GaussianProcess at 0x1038f2290>"
      ]
     },
     "execution_count": 3,
     "metadata": {},
     "output_type": "execute_result"
    }
   ],
   "source": [
    "gp = GP(ls=[.5],\n",
    "        amp=1.,\n",
    "        noise=0.,\n",
    "        keps=1e-9)\n",
    "gp.fit(X, y, train=False)"
   ]
  },
  {
   "cell_type": "markdown",
   "metadata": {},
   "source": [
    "### Gradients w.r.t. K"
   ]
  },
  {
   "cell_type": "code",
   "execution_count": 4,
   "metadata": {
    "collapsed": false
   },
   "outputs": [
    {
     "name": "stdout",
     "output_type": "stream",
     "text": [
      "[[ 1.          0.51481205]\n",
      " [ 0.51481205  1.        ]]\n",
      "ls grad:\n",
      "[[ 0.          1.36724483]\n",
      " [ 1.36724483  0.        ]]\n",
      "amp grad:\n",
      "[[ 2.          1.02962411]\n",
      " [ 1.02962411  2.        ]]\n",
      "noise grad:\n",
      "[[ 0.  0.]\n",
      " [ 0.  0.]]\n"
     ]
    }
   ],
   "source": [
    "K, grads = gp.K(X, grad=True)\n",
    "print K\n",
    "print \"ls grad:\"\n",
    "for ls_grad in grads['ls']:\n",
    "    print ls_grad\n",
    "print \"amp grad:\"\n",
    "print grads['amp']\n",
    "print \"noise grad:\"\n",
    "print grads['noise']"
   ]
  },
  {
   "cell_type": "code",
   "execution_count": 5,
   "metadata": {
    "collapsed": false
   },
   "outputs": [
    {
     "name": "stdout",
     "output_type": "stream",
     "text": [
      "Numerical v. analytical gradient difference:\n",
      "[[  0.00000000e+00  -2.49078536e-11]\n",
      " [ -2.49078536e-11   0.00000000e+00]]\n",
      "Max deviation: 2.49078535575e-11\n",
      "(array([[[ 0.        ,  1.36724483],\n",
      "        [ 1.36724483,  0.        ]]]), array([[[ 0.        ,  1.36724483],\n",
      "        [ 1.36724483,  0.        ]]]))\n"
     ]
    }
   ],
   "source": [
    "name = 'ls'\n",
    "f = lambda x: (gp.K(X), gp.K(X, grad=True)[1][name])\n",
    "print check_grad(f, gp.params[name], h=1e-5, verbose=True)"
   ]
  },
  {
   "cell_type": "code",
   "execution_count": 6,
   "metadata": {
    "collapsed": false
   },
   "outputs": [
    {
     "name": "stdout",
     "output_type": "stream",
     "text": [
      "Numerical v. analytical gradient difference:\n",
      "[[ -2.00017780e-12   9.48352508e-12]\n",
      " [  9.48352508e-12  -2.00017780e-12]]\n",
      "Max deviation: 9.48352507635e-12\n",
      "(array([[ 2.        ,  1.02962411],\n",
      "       [ 1.02962411,  2.        ]]), array([[ 2.        ,  1.02962411],\n",
      "       [ 1.02962411,  2.        ]]))\n"
     ]
    }
   ],
   "source": [
    "name = 'amp'\n",
    "f = lambda x: (gp.K(X), gp.K(X, grad=True)[1][name])\n",
    "print check_grad(f, gp.params[name], h=1e-5, verbose=True)"
   ]
  },
  {
   "cell_type": "code",
   "execution_count": 7,
   "metadata": {
    "collapsed": false
   },
   "outputs": [
    {
     "name": "stdout",
     "output_type": "stream",
     "text": [
      "Numerical v. analytical gradient difference:\n",
      "[[ 0.  0.]\n",
      " [ 0.  0.]]\n",
      "Max deviation: 0.0\n",
      "(array([[ 0.,  0.],\n",
      "       [ 0.,  0.]]), array([[ 0.,  0.],\n",
      "       [ 0.,  0.]]))\n"
     ]
    }
   ],
   "source": [
    "name = 'noise'\n",
    "f = lambda x: (gp.K(X), gp.K(X, grad=True)[1][name])\n",
    "print check_grad(f, gp.params[name], h=1e-5, verbose=True)"
   ]
  },
  {
   "cell_type": "markdown",
   "metadata": {},
   "source": [
    "### Gradients w.r.t. L"
   ]
  },
  {
   "cell_type": "code",
   "execution_count": 8,
   "metadata": {
    "collapsed": false
   },
   "outputs": [
    {
     "name": "stdout",
     "output_type": "stream",
     "text": [
      "(0.0,) \t0.000395059585571\n",
      "(0.0,) \t0.00114607810974\n",
      "(0.0,) \t0.000312089920044\n"
     ]
    }
   ],
   "source": [
    "# Before checking gradient, here's a little demo of the different ways of computing the log determinant\n",
    "big_matrix = np.eye(100) # np.random.randn(30, 30)\n",
    "big_matrix = big_matrix.T.dot(big_matrix)\n",
    "t1 = time.time()\n",
    "ans1 = np.log(np.diag(np.linalg.cholesky(big_matrix)**2)).sum()\n",
    "t1 = time.time() - t1\n",
    "t2 = time.time()\n",
    "ans2 = np.linalg.slogdet(big_matrix)[1]\n",
    "t2 = time.time() - t2\n",
    "t3 = time.time()\n",
    "ans3 = 2*np.log(np.diag(np.linalg.cholesky(big_matrix))).sum()\n",
    "t3 = time.time() - t3\n",
    "print (ans1,), \"\\t\", t1\n",
    "print (ans2,), \"\\t\", t2\n",
    "print (ans3,), \"\\t\", t3"
   ]
  },
  {
   "cell_type": "markdown",
   "metadata": {},
   "source": [
    "### Check if L changes significantly as a function of sample size\n",
    "\n",
    "It does change. I have modified the loss function so that it is divided by the number of samples"
   ]
  },
  {
   "cell_type": "code",
   "execution_count": 9,
   "metadata": {
    "collapsed": false
   },
   "outputs": [
    {
     "name": "stdout",
     "output_type": "stream",
     "text": [
      "9.20589046451\n"
     ]
    }
   ],
   "source": [
    "# make some random data\n",
    "np.random.seed(42)\n",
    "n = 1000\n",
    "X = np.random.uniform(0, 1, (n, 1))\n",
    "y = np.sin(X)\n",
    "\n",
    "gp = GP(ls=[.1],\n",
    "        amp=1.,\n",
    "        noise=0.0,\n",
    "        keps=1e-9)\n",
    "print gp.L(X, y, grad=True)[0]"
   ]
  },
  {
   "cell_type": "code",
   "execution_count": 10,
   "metadata": {
    "collapsed": false
   },
   "outputs": [
    {
     "name": "stdout",
     "output_type": "stream",
     "text": [
      "Numerical v. analytical gradient difference:\n",
      "0.00415114502771\n",
      "Max deviation: 0.00415114502771\n",
      "Ana gradient: 1.87503868876\n",
      "Num gradient: 1.87088754373\n"
     ]
    }
   ],
   "source": [
    "name = 'ls'\n",
    "f = lambda x: (gp.L(X, y), gp.L(X, y, grad=True)[1][name])\n",
    "ana_grad, num_grad = check_grad(f, gp.params[name], h=1e-5, verbose=1)\n",
    "print \"Ana gradient:\", ana_grad[0]\n",
    "print \"Num gradient:\", num_grad[0]"
   ]
  },
  {
   "cell_type": "code",
   "execution_count": 11,
   "metadata": {
    "collapsed": false
   },
   "outputs": [
    {
     "name": "stdout",
     "output_type": "stream",
     "text": [
      "Numerical v. analytical gradient difference:\n",
      "0.0119308041244\n",
      "Max deviation: 0.0119308041244\n",
      "Ana gradient: -0.0264338891645\n",
      "Num gradient: -0.0383646932889\n"
     ]
    }
   ],
   "source": [
    "name = 'amp'\n",
    "f = lambda x: (gp.L(X, y), gp.L(X, y, grad=True)[1][name])\n",
    "ana_grad, num_grad = check_grad(f, gp.params[name], h=1e-5, verbose=1)\n",
    "print \"Ana gradient:\", ana_grad\n",
    "print \"Num gradient:\", num_grad"
   ]
  },
  {
   "cell_type": "code",
   "execution_count": 12,
   "metadata": {
    "collapsed": false,
    "scrolled": true
   },
   "outputs": [
    {
     "name": "stdout",
     "output_type": "stream",
     "text": [
      "Numerical v. analytical gradient difference:\n",
      "0.0\n",
      "Max deviation: 0.0\n",
      "Ana gradient: 0.0\n",
      "Num gradient: 0.0\n"
     ]
    }
   ],
   "source": [
    "name = 'noise'\n",
    "f = lambda x: (gp.L(X, y), gp.L(X, y, grad=True)[1][name])\n",
    "ana_grad, num_grad = check_grad(f, gp.params[name], h=1e-5, verbose=1)\n",
    "print \"Ana gradient:\", ana_grad\n",
    "print \"Num gradient:\", num_grad"
   ]
  },
  {
   "cell_type": "code",
   "execution_count": 18,
   "metadata": {
    "collapsed": false,
    "scrolled": true
   },
   "outputs": [
    {
     "name": "stdout",
     "output_type": "stream",
     "text": [
      "Batch size larger than sample size. Reducing it to. 67\n",
      "Epoch: 1 Negative log likelihood: 10.4488791064\n",
      "Epoch: 2 Negative log likelihood: 8.77794575183\n",
      "Epoch: 3 Negative log likelihood: 7.02011137203\n",
      "Epoch: 4 Negative log likelihood: 4.67777952181\n",
      "Epoch: 5 Negative log likelihood: 1.94095366678\n",
      "Epoch: 6 Negative log likelihood: 0.133018449251\n",
      "Epoch: 7 Negative log likelihood: -0.589810677274\n",
      "Epoch: 8 Negative log likelihood: -0.886640464514\n",
      "Epoch: 9 Negative log likelihood: -1.03350597035\n",
      "Epoch: 10 Negative log likelihood: -1.11859571878\n",
      "********************************************************************************\n",
      "Final negative log likelihood -1.11859571878\n",
      "Final parameters:\n",
      "amp : 0.269161863125\n",
      "noise : 0.05\n",
      "ls : [ 0.25104884]\n",
      "keps : 1e-09\n",
      "********************************************************************************\n"
     ]
    },
    {
     "data": {
      "text/plain": [
       "<tgp.np.gaussian_process.GaussianProcess at 0x102cd5350>"
      ]
     },
     "execution_count": 18,
     "metadata": {},
     "output_type": "execute_result"
    }
   ],
   "source": [
    "# make some random data\n",
    "np.random.seed(45)\n",
    "n = 67\n",
    "X = np.random.uniform(0., 1, (n, 1))\n",
    "y = np.squeeze(np.sin(X*10)) + np.random.randn(len(X))*.1\n",
    "\n",
    "gp = GP(ls=[.5],\n",
    "       amp=.1,\n",
    "       noise=5e-2)\n",
    "gp.fit(X, y, nepochs=10, batch_size=1000, learning_rate=1e-3, learning_rate_decay=.999, verbose=1)"
   ]
  },
  {
   "cell_type": "code",
   "execution_count": 19,
   "metadata": {
    "collapsed": false
   },
   "outputs": [
    {
     "data": {
      "text/plain": [
       "[<matplotlib.lines.Line2D at 0x1038d6b10>]"
      ]
     },
     "execution_count": 19,
     "metadata": {},
     "output_type": "execute_result"
    },
    {
     "data": {
      "image/png": "[encoded data removed]",
      "text/plain": [
       "<matplotlib.figure.Figure at 0x1091ca550>"
      ]
     },
     "metadata": {},
     "output_type": "display_data"
    }
   ],
   "source": [
    "X_ = np.linspace(0, 1, 1000).reshape(-1, 1)\n",
    "y_, var = gp.predict(X_)\n",
    "plt.scatter(X, y, c='r')\n",
    "plt.plot(X_, y_ + var**.5, c='g')\n",
    "plt.plot(X_, y_ - var**.5, c='g')\n",
    "plt.plot(X_, y_, c='y', linewidth=2)"
   ]
  },
  {
   "cell_type": "markdown",
   "metadata": {},
   "source": [
    "### Higher Dimensions"
   ]
  },
  {
   "cell_type": "code",
   "execution_count": null,
   "metadata": {
    "collapsed": false
   },
   "outputs": [],
   "source": [
    "np.random.seed(45)\n",
    "n = 1000\n",
    "dim = 7\n",
    "X = np.random.uniform(0, 1, (n, dim))\n",
    "ls = [.1, .2, .4, .8, 1.6, 3.2, 6.4]\n",
    "amp = 10.\n",
    "noise = 0.001\n",
    "sqdist = GP.compute_sqdist(X/ls)\n",
    "K = amp**2 * np.exp(-0.5 * sqdist)\n",
    "A = np.linalg.cholesky( K + np.eye(n)*1e-9 )\n",
    "y = A.dot(np.random.randn(n, 1))"
   ]
  },
  {
   "cell_type": "code",
   "execution_count": null,
   "metadata": {
    "collapsed": false
   },
   "outputs": [],
   "source": [
    "shuffle = np.random.permutation(len(X))\n",
    "X = X[shuffle]\n",
    "y = y[shuffle]\n",
    "mask = len(X)/3*2\n",
    "X_train, y_train = X[:mask], y[:mask]\n",
    "X_test, y_test = X[mask:], y[mask:]"
   ]
  },
  {
   "cell_type": "code",
   "execution_count": null,
   "metadata": {
    "collapsed": false
   },
   "outputs": [],
   "source": [
    "gp = GP(lsr=(.1, .2, 7),\n",
    "       amp=1.,\n",
    "       noise=1e-2)\n",
    "gp.fit(X_train, y_train, \n",
    "       nepochs=500, batch_size=500, learning_rate=1e-2, \n",
    "       learning_rate_decay=.999, \n",
    "       verbose=2)\n",
    "y_, var = gp.predict(X_train)\n",
    "print \"mse:\", ((y_train - y_)**2).mean()/np.var(y_train)\n",
    "y_, var = gp.predict(X_test)\n",
    "print \"mse:\", ((y_test - y_)**2).mean()/np.var(y_test)\n",
    "print \"mse:\", ((y_test - y_train.mean())**2).mean()/np.var(y_test)"
   ]
  },
  {
   "cell_type": "code",
   "execution_count": null,
   "metadata": {
    "collapsed": true
   },
   "outputs": [],
   "source": [
    "from sklearn.ensemble import RandomForestRegressor as RF"
   ]
  },
  {
   "cell_type": "code",
   "execution_count": null,
   "metadata": {
    "collapsed": false
   },
   "outputs": [],
   "source": [
    "rf = RF(n_estimators=1000).fit(X_train, np.squeeze(y_train))\n",
    "\n",
    "y_ = rf.predict(X_train)\n",
    "print \"mse:\", ((np.squeeze(y_train) - y_)**2).mean()/np.var(y_train)\n",
    "y_ = rf.predict(X_test)\n",
    "print \"mse:\", ((np.squeeze(y_test) - y_)**2).mean()/np.var(y_test)"
   ]
  }
 ],
 "metadata": {
  "kernelspec": {
   "display_name": "Python 2",
   "language": "python",
   "name": "python2"
  },
  "language_info": {
   "codemirror_mode": {
    "name": "ipython",
    "version": 2
   },
   "file_extension": ".py",
   "mimetype": "text/x-python",
   "name": "python",
   "nbconvert_exporter": "python",
   "pygments_lexer": "ipython2",
   "version": "2.7.10"
  }
 },
 "nbformat": 4,
 "nbformat_minor": 0
}
