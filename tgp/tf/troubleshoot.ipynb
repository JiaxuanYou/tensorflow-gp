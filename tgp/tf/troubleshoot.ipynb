{
 "cells": [
  {
   "cell_type": "code",
   "execution_count": 8,
   "metadata": {
    "collapsed": true
   },
   "outputs": [],
   "source": [
    "from gaussian_process import GaussianProcess as GP\n",
    "import matplotlib.pyplot as plt\n",
    "import numpy as np\n",
    "import tensorflow as tf\n",
    "%matplotlib inline"
   ]
  },
  {
   "cell_type": "code",
   "execution_count": 24,
   "metadata": {
    "collapsed": false
   },
   "outputs": [
    {
     "data": {
      "image/png": "[encoded data removed]",
      "text/plain": [
       "<matplotlib.figure.Figure at 0x1181da7d0>"
      ]
     },
     "metadata": {},
     "output_type": "display_data"
    }
   ],
   "source": [
    "# X = np.linspace(0., 1., 300).reshape(-1, 1).astype(np.float64)\n",
    "dim = 1\n",
    "X = np.random.uniform(0, 1, (10, dim))\n",
    "y = (np.sin((X[:, 0])*10) - X[:,0]*3).reshape(-1, 1)\n",
    "plt.scatter(X, y)\n",
    "plt.show()"
   ]
  },
  {
   "cell_type": "code",
   "execution_count": 37,
   "metadata": {
    "collapsed": false,
    "scrolled": true
   },
   "outputs": [
    {
     "name": "stdout",
     "output_type": "stream",
     "text": [
      "[[-0.15558379]]\n",
      "[[-0.16170398]]\n",
      "[[-0.16779481]]\n",
      "[[-0.17385392]]\n",
      "[[-0.17987888]]\n",
      "[[-0.18586716]]\n",
      "[[-0.19181617]]\n",
      "[[-0.19772328]]\n",
      "[[-0.20358581]]\n",
      "[[-0.20940105]]\n",
      "[[-0.21516629]]\n",
      "[[-0.22087881]]\n",
      "[[-0.22653591]]\n",
      "[[-0.2321349]]\n",
      "[[-0.23767316]]\n",
      "[[-0.2431481]]\n",
      "[[-0.24855719]]\n",
      "[[-0.25389799]]\n",
      "[[-0.25916812]]\n",
      "[[-0.26436531]]\n",
      "[[-0.2694874]]\n",
      "[[-0.27453232]]\n",
      "[[-0.27949814]]\n",
      "[[-0.28438304]]\n",
      "[[-0.28918533]]\n",
      "[[-0.29390346]]\n",
      "[[-0.29853604]]\n",
      "[[-0.30308177]]\n",
      "[[-0.30753955]]\n",
      "[[-0.31190839]]\n",
      "[[-0.31618746]]\n",
      "[[-0.32037607]]\n",
      "[[-0.32447368]]\n",
      "[[-0.32847988]]\n",
      "[[-0.33239443]]\n",
      "[[-0.3362172]]\n",
      "[[-0.33994819]]\n",
      "[[-0.34358756]]\n",
      "[[-0.34713557]]\n",
      "[[-0.3505926]]\n",
      "[[-0.35395917]]\n",
      "[[-0.35723589]]\n",
      "[[-0.36042348]]\n",
      "[[-0.36352276]]\n",
      "[[-0.36653465]]\n",
      "[[-0.36946014]]\n",
      "[[-0.37230032]]\n",
      "[[-0.37505636]]\n",
      "[[-0.37772949]]\n",
      "[[-0.380321]]\n",
      "[[-0.38283225]]\n",
      "[[-0.38526466]]\n",
      "[[-0.38761969]]\n",
      "[[-0.38989885]]\n",
      "[[-0.39210368]]\n",
      "[[-0.39423576]]\n",
      "[[-0.39629672]]\n",
      "[[-0.39828818]]\n",
      "[[-0.40021181]]\n",
      "[[-0.40206928]]\n",
      "[[-0.4038623]]\n",
      "[[-0.40559257]]\n",
      "[[-0.40726179]]\n",
      "[[-0.40887168]]\n",
      "[[-0.41042396]]\n",
      "[[-0.41192034]]\n",
      "[[-0.41336254]]\n",
      "[[-0.41475226]]\n",
      "[[-0.41609118]]\n",
      "[[-0.41738098]]\n",
      "[[-0.41862333]]\n",
      "[[-0.41981988]]\n",
      "[[-0.42097225]]\n",
      "[[-0.42208205]]\n",
      "[[-0.42315085]]\n",
      "[[-0.42418023]]\n",
      "[[-0.42517169]]\n",
      "[[-0.42612676]]\n",
      "[[-0.42704689]]\n",
      "[[-0.42793353]]\n",
      "[[-0.42878809]]\n",
      "[[-0.42961194]]\n",
      "[[-0.43040641]]\n",
      "[[-0.43117282]]\n",
      "[[-0.43191243]]\n",
      "[[-0.43262647]]\n",
      "[[-0.43331614]]\n",
      "[[-0.43398258]]\n",
      "[[-0.43462691]]\n",
      "[[-0.43525021]]\n",
      "[[-0.43585352]]\n",
      "[[-0.43643784]]\n",
      "[[-0.43700413]]\n",
      "[[-0.43755331]]\n",
      "[[-0.43808626]]\n",
      "[[-0.43860383]]\n",
      "[[-0.43910683]]\n",
      "[[-0.43959602]]\n",
      "[[-0.44007215]]\n",
      "[[-0.44053592]]\n"
     ]
    }
   ],
   "source": [
    "sess = tf.Session()\n",
    "gp = GP(sess=sess, ls=.1, noise=0.1, amp=1.)\n",
    "gp.solve(X, y, epochs=100, batch_size=len(X), train=True)\n",
    "X_ = np.linspace(0, 1, 1000).reshape(-1, 1)\n",
    "y_, var_ = gp.predict(X_)\n",
    "std_ = np.sqrt(var_).reshape(-1, 1)"
   ]
  },
  {
   "cell_type": "code",
   "execution_count": 38,
   "metadata": {
    "collapsed": false
   },
   "outputs": [
    {
     "data": {
      "text/plain": [
       "<matplotlib.collections.PathCollection at 0x11acb9250>"
      ]
     },
     "execution_count": 38,
     "metadata": {},
     "output_type": "execute_result"
    },
    {
     "data": {
      "image/png": "[encoded data removed]",
      "text/plain": [
       "<matplotlib.figure.Figure at 0x11b723610>"
      ]
     },
     "metadata": {},
     "output_type": "display_data"
    }
   ],
   "source": [
    "plt.plot(X_, y_)\n",
    "plt.plot(X_, y_ + 2*std_, 'g')\n",
    "plt.plot(X_, y_ - 2*std_, 'g')\n",
    "plt.scatter(X, y)"
   ]
  }
 ],
 "metadata": {
  "kernelspec": {
   "display_name": "Python 2",
   "language": "python",
   "name": "python2"
  },
  "language_info": {
   "codemirror_mode": {
    "name": "ipython",
    "version": 2
   },
   "file_extension": ".py",
   "mimetype": "text/x-python",
   "name": "python",
   "nbconvert_exporter": "python",
   "pygments_lexer": "ipython2",
   "version": "2.7.10"
  }
 },
 "nbformat": 4,
 "nbformat_minor": 0
}
